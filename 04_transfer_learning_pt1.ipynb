{
  "nbformat": 4,
  "nbformat_minor": 0,
  "metadata": {
    "colab": {
      "name": "04-transfer-learning-pt1.ipynb",
      "provenance": [],
      "authorship_tag": "ABX9TyOkiPnWc78zxoFjURKJAzOX",
      "include_colab_link": true
    },
    "kernelspec": {
      "name": "python3",
      "display_name": "Python 3"
    },
    "language_info": {
      "name": "python"
    },
    "accelerator": "GPU"
  },
  "cells": [
    {
      "cell_type": "markdown",
      "metadata": {
        "id": "view-in-github",
        "colab_type": "text"
      },
      "source": [
        "<a href=\"https://colab.research.google.com/github/ReubenCode/TensorFlow/blob/main/04_transfer_learning_pt1.ipynb\" target=\"_parent\"><img src=\"https://colab.research.google.com/assets/colab-badge.svg\" alt=\"Open In Colab\"/></a>"
      ]
    },
    {
      "cell_type": "markdown",
      "source": [
        "# Transfer learning with tensorflow part 1: feature extraction\n",
        "\n",
        "transfer learning is leveraging a working model's existing architecture and learned patterns for our own problem.\n",
        "\n",
        "There are two main benfits\n",
        "1. leverage an exisiting neural architecture proven to work on problems similar to our down\n",
        "2. can leverage a working neural network architecture which has already learned patterns on similar data to our own, then we can adap those patterns to our own"
      ],
      "metadata": {
        "id": "PCg-YnAoy4V0"
      }
    },
    {
      "cell_type": "code",
      "source": [
        "# check GPU\n",
        "!nvidia-smi"
      ],
      "metadata": {
        "colab": {
          "base_uri": "https://localhost:8080/"
        },
        "id": "Tzqyas-G52jQ",
        "outputId": "3e564e12-a930-4dbd-f8b3-c383e748dcb9"
      },
      "execution_count": 1,
      "outputs": [
        {
          "output_type": "stream",
          "name": "stdout",
          "text": [
            "NVIDIA-SMI has failed because it couldn't communicate with the NVIDIA driver. Make sure that the latest NVIDIA driver is installed and running.\n",
            "\n"
          ]
        }
      ]
    },
    {
      "cell_type": "markdown",
      "source": [
        "## download and become one with data"
      ],
      "metadata": {
        "id": "B6RtMWcO6Odc"
      }
    },
    {
      "cell_type": "code",
      "source": [
        "#get data (10% of 10 food classess from food 101)\n",
        "import zipfile\n",
        "\n",
        "#download the data\n",
        "!wget https://storage.googleapis.com/ztm_tf_course/food_vision/10_food_classes_10_percent.zip\n",
        "\n",
        "#unzip the download file\n",
        "zip_ref = zipfile.ZipFile(\"10_food_classes_10_percent.zip\")\n",
        "zip_ref.extractall()\n",
        "zip_ref.close()"
      ],
      "metadata": {
        "colab": {
          "base_uri": "https://localhost:8080/"
        },
        "id": "5nyAAlQk6Rrs",
        "outputId": "4235726e-6105-4a3d-a8f4-edd49721f6d8"
      },
      "execution_count": 2,
      "outputs": [
        {
          "output_type": "stream",
          "name": "stdout",
          "text": [
            "--2022-05-30 04:33:44--  https://storage.googleapis.com/ztm_tf_course/food_vision/10_food_classes_10_percent.zip\n",
            "Resolving storage.googleapis.com (storage.googleapis.com)... 142.250.65.80, 172.217.12.240, 172.217.15.112, ...\n",
            "Connecting to storage.googleapis.com (storage.googleapis.com)|142.250.65.80|:443... connected.\n",
            "HTTP request sent, awaiting response... 200 OK\n",
            "Length: 168546183 (161M) [application/zip]\n",
            "Saving to: ‘10_food_classes_10_percent.zip’\n",
            "\n",
            "10_food_classes_10_ 100%[===================>] 160.74M   183MB/s    in 0.9s    \n",
            "\n",
            "2022-05-30 04:33:45 (183 MB/s) - ‘10_food_classes_10_percent.zip’ saved [168546183/168546183]\n",
            "\n"
          ]
        }
      ]
    },
    {
      "cell_type": "code",
      "source": [
        "# how many images in each folder\n",
        "import os\n",
        "\n",
        "#walk through 10 percent data directory and list of files\n",
        "for dirpath, dirnames, filenames in os.walk(\"10_food_classes_10_percent\"):\n",
        "  print(f\"There are {len(dirnames)} directories and {len(filenames)} images in {dirpath}\")"
      ],
      "metadata": {
        "colab": {
          "base_uri": "https://localhost:8080/"
        },
        "id": "UP2IdQco7yBo",
        "outputId": "17625998-abfd-4652-e5a3-dfd3b9282187"
      },
      "execution_count": 3,
      "outputs": [
        {
          "output_type": "stream",
          "name": "stdout",
          "text": [
            "There are 2 directories and 0 images in 10_food_classes_10_percent\n",
            "There are 10 directories and 0 images in 10_food_classes_10_percent/test\n",
            "There are 0 directories and 250 images in 10_food_classes_10_percent/test/chicken_curry\n",
            "There are 0 directories and 250 images in 10_food_classes_10_percent/test/ramen\n",
            "There are 0 directories and 250 images in 10_food_classes_10_percent/test/hamburger\n",
            "There are 0 directories and 250 images in 10_food_classes_10_percent/test/ice_cream\n",
            "There are 0 directories and 250 images in 10_food_classes_10_percent/test/grilled_salmon\n",
            "There are 0 directories and 250 images in 10_food_classes_10_percent/test/sushi\n",
            "There are 0 directories and 250 images in 10_food_classes_10_percent/test/steak\n",
            "There are 0 directories and 250 images in 10_food_classes_10_percent/test/fried_rice\n",
            "There are 0 directories and 250 images in 10_food_classes_10_percent/test/pizza\n",
            "There are 0 directories and 250 images in 10_food_classes_10_percent/test/chicken_wings\n",
            "There are 10 directories and 0 images in 10_food_classes_10_percent/train\n",
            "There are 0 directories and 75 images in 10_food_classes_10_percent/train/chicken_curry\n",
            "There are 0 directories and 75 images in 10_food_classes_10_percent/train/ramen\n",
            "There are 0 directories and 75 images in 10_food_classes_10_percent/train/hamburger\n",
            "There are 0 directories and 75 images in 10_food_classes_10_percent/train/ice_cream\n",
            "There are 0 directories and 75 images in 10_food_classes_10_percent/train/grilled_salmon\n",
            "There are 0 directories and 75 images in 10_food_classes_10_percent/train/sushi\n",
            "There are 0 directories and 75 images in 10_food_classes_10_percent/train/steak\n",
            "There are 0 directories and 75 images in 10_food_classes_10_percent/train/fried_rice\n",
            "There are 0 directories and 75 images in 10_food_classes_10_percent/train/pizza\n",
            "There are 0 directories and 75 images in 10_food_classes_10_percent/train/chicken_wings\n"
          ]
        }
      ]
    },
    {
      "cell_type": "markdown",
      "source": [
        "## Creating data loaders (preparing the data)\n",
        "\n",
        "we'll use the ImageDataGenerator class to load in our images in batch"
      ],
      "metadata": {
        "id": "4TnbjUYN-mvh"
      }
    },
    {
      "cell_type": "code",
      "source": [
        "#set data inputs\n",
        "from tensorflow.keras.preprocessing.image import ImageDataGenerator\n",
        "\n",
        "IMAGE_SHAPE = (224,224)\n",
        "BATCH_SIZE = 32\n",
        "\n",
        "train_dir = \"10_food_classes_10_percent/train/\"\n",
        "test_dir = \"10_food_classes_10_percent/test/\"\n",
        "\n",
        "train_datagen = ImageDataGenerator(rescale=1/255.)\n",
        "test_datagen = ImageDataGenerator(rescale=1/255.)\n",
        "\n",
        "print(\"Training images:\")\n",
        "train_data_10_percent = train_datagen.flow_from_directory(train_dir,\n",
        "                                                          target_size = IMAGE_SHAPE,\n",
        "                                                          batch_size = BATCH_SIZE,\n",
        "                                                          class_mode = \"categorical\")\n",
        "print(\"testing images\")\n",
        "test_data = test_datagen.flow_from_directory(test_dir,\n",
        "                                                        target_size = IMAGE_SHAPE,\n",
        "                                                        batch_size = BATCH_SIZE,\n",
        "                                                        class_mode = \"categorical\")"
      ],
      "metadata": {
        "colab": {
          "base_uri": "https://localhost:8080/"
        },
        "id": "_Lq417oh-z9f",
        "outputId": "f47d8abe-cd3a-4bff-ca3c-98f0c8e137df"
      },
      "execution_count": 4,
      "outputs": [
        {
          "output_type": "stream",
          "name": "stdout",
          "text": [
            "Training images:\n",
            "Found 750 images belonging to 10 classes.\n",
            "testing images\n",
            "Found 2500 images belonging to 10 classes.\n"
          ]
        }
      ]
    },
    {
      "cell_type": "markdown",
      "source": [
        "## setting up callbacks ( things to run while our model trains)\n",
        "\n",
        "Callbacks are extra functiionality you can add to your models to be performed during or after training. Some of the most popular callbacks:\n",
        "\n",
        "* tracking experiments with tensorboard callbacks\n",
        "* model checkpoint with the ModelCheckpoint callback\n",
        "* stopping a model from training (before it trains to long and overfits) with the EarlyStopping callback"
      ],
      "metadata": {
        "id": "nZsokhJPU75e"
      }
    },
    {
      "cell_type": "code",
      "source": [
        "# create TensorBoard callback (funcionized because we need to create a new one for each model)\n",
        "import datetime\n",
        "\n",
        "def create_tensorboard_callback(dir_name, experiment_name):\n",
        "  log_dir = dir_name + \"/\" + experiment_name + \"/\" + datetime.datetime.now().strftime(\"%y%m%d-%H%M%s\")\n",
        "  tensorboard_callback = tf.keras.callbacks.TensorBoard(log_dir=log_dir )\n",
        "  print(f\"Saving TensorBoard log files to: {log_dir}\")\n",
        "  return tensorboard_callback"
      ],
      "metadata": {
        "id": "rmKV_tTAV4B-"
      },
      "execution_count": 5,
      "outputs": []
    },
    {
      "cell_type": "markdown",
      "source": [
        "**Note** you can customize the directory where your tensorboard (model training metrics) gets saved to whatever you like. The log_dir parameter we've created above is only one option"
      ],
      "metadata": {
        "id": "sl3cJ_5aYzmh"
      }
    },
    {
      "cell_type": "markdown",
      "source": [
        "## Creating models using TensorFlow Hub\n",
        "\n",
        "Now we're a majority of our models are going to come from TensorFlow Hub\n",
        "\n",
        "access pretrained models on https://tfhub.dev/\n",
        "\n",
        "browsing TesorFlow hub page we found the following feature vector model link\n",
        "https://tfhub.dev/tensorflow/efficientnet/b0/feature-vector/1"
      ],
      "metadata": {
        "id": "VCSu4NSUZH2j"
      }
    },
    {
      "cell_type": "code",
      "source": [
        "#let's compare the following two models\n",
        "\n",
        "resnet_url = \"https://tfhub.dev/google/imagenet/resnet_v2_50/feature_vector/4\"\n",
        "\n",
        "efficientnet_url = \"https://tfhub.dev/tensorflow/efficientnet/b0/feature-vector/1\""
      ],
      "metadata": {
        "id": "3U0SqJQ2ZLQm"
      },
      "execution_count": 6,
      "outputs": []
    },
    {
      "cell_type": "code",
      "source": [
        "#import dependencies\n",
        "import tensorflow as tf\n",
        "import tensorflow_hub as hub\n",
        "from tensorflow.keras import layers\n"
      ],
      "metadata": {
        "id": "15vMqShidef7"
      },
      "execution_count": 7,
      "outputs": []
    },
    {
      "cell_type": "code",
      "source": [
        "# let's make a create_movel() function to create a model from a URL\n",
        "def create_model(model_url, num_classes=10):\n",
        "  \"\"\"\n",
        "  takes a tensorflow hub url and creates a keras sequential model with it\n",
        "\n",
        "  Args:\n",
        "    model_url (str): a tensorflow ub feature extraction url.\n",
        "    num_classes (int): number of output neurons in the output layer,\n",
        "      should be equal to the number of target classes, default 10.\n",
        "    \n",
        "  Returns:\n",
        "    An uncompiled keras sequential model with model_url sa feature extractor \n",
        "    layer and dense output layer with num_classes output layer\n",
        "  \"\"\"\n",
        "  # download the pretrained model and save it as a Keras layer\n",
        "  feature_extractor_layer = hub.KerasLayer(model_url, \n",
        "                                           trainable=False, #freeze the already learned patterns\n",
        "                                           name=\"feature_extraction_layer\",\n",
        "                                           input_shape=IMAGE_SHAPE+(3,)) \n",
        "  # CREATE OUR MODEL\n",
        "  model = tf.keras.Sequential([\n",
        "      feature_extractor_layer,  \n",
        "      layers.Dense(num_classes, activation=\"softmax\", name=\"output_layer\")                       \n",
        "  ])\n",
        "  return model\n"
      ],
      "metadata": {
        "id": "k1Y5a6iDed_S"
      },
      "execution_count": 8,
      "outputs": []
    },
    {
      "cell_type": "markdown",
      "source": [
        "###creating resnet tensorflow hub feature extraction model"
      ],
      "metadata": {
        "id": "0OObQwmPnK1v"
      }
    },
    {
      "cell_type": "code",
      "source": [
        "#create Resnet model\n",
        "resnet_model = create_model(resnet_url,\n",
        "                            num_classes=train_data_10_percent.num_classes)"
      ],
      "metadata": {
        "id": "jgyMXft3nRXn"
      },
      "execution_count": 9,
      "outputs": []
    },
    {
      "cell_type": "code",
      "source": [
        "# compile our resnet model\n",
        "resnet_model.compile(loss=\"categorical_crossentropy\",\n",
        "                     optimizer=tf.keras.optimizers.Adam(),\n",
        "                     metrics=[\"accuracy\"])"
      ],
      "metadata": {
        "id": "gKfiqwiAqXa8"
      },
      "execution_count": 10,
      "outputs": []
    },
    {
      "cell_type": "code",
      "source": [
        "# fit the Resnet model to the data\n",
        "resnet_history = resnet_model.fit(train_data_10_percent,\n",
        "                                  epochs=5,\n",
        "                                  steps_per_epoch=len(train_data_10_percent),\n",
        "                                  validation_data=test_data,\n",
        "                                  validation_steps=len(test_data),\n",
        "                                  callbacks=[create_tensorboard_callback(dir_name=\"tensorflow_hub\",\n",
        "                                                                         experiment_name=\"resnet50v2\")])"
      ],
      "metadata": {
        "colab": {
          "base_uri": "https://localhost:8080/"
        },
        "id": "kqMA0UwXquDa",
        "outputId": "e9721853-a042-4068-b54b-b31b39dfa52b"
      },
      "execution_count": 11,
      "outputs": [
        {
          "output_type": "stream",
          "name": "stdout",
          "text": [
            "Saving TensorBoard log files to: tensorflow_hub/resnet50v2/220530-04341653885241\n",
            "Epoch 1/5\n",
            "24/24 [==============================] - 415s 18s/step - loss: 1.9943 - accuracy: 0.3533 - val_loss: 1.1618 - val_accuracy: 0.6376\n",
            "Epoch 2/5\n",
            "24/24 [==============================] - 410s 18s/step - loss: 0.9115 - accuracy: 0.7320 - val_loss: 0.8441 - val_accuracy: 0.7328\n",
            "Epoch 3/5\n",
            "24/24 [==============================] - 439s 19s/step - loss: 0.6302 - accuracy: 0.8333 - val_loss: 0.7337 - val_accuracy: 0.7700\n",
            "Epoch 4/5\n",
            "24/24 [==============================] - 388s 17s/step - loss: 0.4753 - accuracy: 0.8800 - val_loss: 0.6985 - val_accuracy: 0.7692\n",
            "Epoch 5/5\n",
            "24/24 [==============================] - 414s 18s/step - loss: 0.3804 - accuracy: 0.9133 - val_loss: 0.6657 - val_accuracy: 0.7856\n"
          ]
        }
      ]
    },
    {
      "cell_type": "markdown",
      "source": [
        "transfer learning extractor out performed all of our training models, quicker and with less data"
      ],
      "metadata": {
        "id": "0Rcp8Q0OqM4U"
      }
    },
    {
      "cell_type": "code",
      "source": [
        "# function to plot loss curves\n",
        "import matplotlib.pyplot as plt\n",
        "\n",
        "#plot the validation and training curves\n",
        "def plot_loss_curves(history):\n",
        "  \"\"\"\n",
        "  Returns separate loss curves for training and validation metrics.\n",
        "\n",
        "  args:\n",
        "    history: TensorFlow History object.\n",
        "  \n",
        "  Returns:\n",
        "    Plots of training/validation loss and accuracy\n",
        "\n",
        "  \"\"\"\n",
        "  loss = history.history[\"loss\"]\n",
        "  val_loss = history.history[\"val_loss\"]\n",
        "\n",
        "  accuracy = history.history[\"accuracy\"]\n",
        "  val_accuracy = history.history[\"val_accuracy\"]\n",
        "\n",
        "  epochs = range(len(history.history[\"loss\"]))\n",
        "\n",
        "  #plot loss\n",
        "  plt.plot(epochs, loss, label=\"training_loss\")\n",
        "  plt.plot(epochs, val_loss, label=\"val_loss\")\n",
        "  plt.title(\"loss\")\n",
        "  plt.xlabel(\"epochs\")\n",
        "  plt.legend()\n",
        "\n",
        "  #plot accuracy\n",
        "  plt.figure()\n",
        "  plt.plot(epochs, accuracy, label=\"training_accuracy\")\n",
        "  plt.plot(epochs, val_accuracy, label=\"val_accuracy\")\n",
        "  plt.title(\"Accuracy\")\n",
        "  plt.xlabel(\"Epochs\")\n",
        "  plt.legend();\n"
      ],
      "metadata": {
        "id": "VpoJop-yv3BD"
      },
      "execution_count": 22,
      "outputs": []
    },
    {
      "cell_type": "code",
      "source": [
        "plot_loss_curves(resnet_history)"
      ],
      "metadata": {
        "colab": {
          "base_uri": "https://localhost:8080/",
          "height": 573
        },
        "id": "5XJ_kI19fkhl",
        "outputId": "40859217-b670-4b43-eb70-4782323f521b"
      },
      "execution_count": 23,
      "outputs": [
        {
          "output_type": "display_data",
          "data": {
            "text/plain": [
              "<Figure size 432x288 with 1 Axes>"
            ],
            "image/png": "[encoded data removed]"
          },
          "metadata": {
            "needs_background": "light"
          }
        },
        {
          "output_type": "display_data",
          "data": {
            "text/plain": [
              "<Figure size 432x288 with 1 Axes>"
            ],
            "image/png": "[encoded data removed]"
          },
          "metadata": {
            "needs_background": "light"
          }
        }
      ]
    },
    {
      "cell_type": "markdown",
      "source": [
        "##Creating and testing EfficientNetb0 TensorFlow Hub Feature Extraction model"
      ],
      "metadata": {
        "id": "yW9fxH3-hAqB"
      }
    },
    {
      "cell_type": "code",
      "source": [
        "# create EfficientNetb0 feature extractor model\n",
        "efficientnet_model = create_model(model_url=efficientnet_url,\n",
        "                                  num_classes=train_data_10_percent.num_classes)\n",
        "#compile EfficientNet model\n",
        "efficientnet_model.compile(loss=\"categorical_crossentropy\",\n",
        "                           optimizer=tf.keras.optimizers.Adam(),\n",
        "                           metrics=[\"accuracy\"])\n",
        "\n",
        "#fit EfficientNet model to 10% of training data\n",
        "efficientnet_history = efficientnet_model.fit(train_data_10_percent,\n",
        "                                              epochs=5,\n",
        "                                              steps_per_epoch=len(train_data_10_percent),\n",
        "                                              validation_data=test_data,\n",
        "                                              validation_steps=len(test_data),\n",
        "                                              callbacks=[create_tensorboard_callback(dir_name=\"tensorflow_hub\",\n",
        "                                                                                     experiment_name=\"efficientnetb0\")])"
      ],
      "metadata": {
        "colab": {
          "base_uri": "https://localhost:8080/"
        },
        "id": "pS0Bd5eBhLn1",
        "outputId": "a1f97dac-aca4-4319-f065-9eb3f5f4900d"
      },
      "execution_count": 27,
      "outputs": [
        {
          "output_type": "stream",
          "name": "stdout",
          "text": [
            "Saving TensorBoard log files to: tensorflow_hub/efficientnetb0/220530-05351653888949\n",
            "Epoch 1/5\n",
            "24/24 [==============================] - 185s 8s/step - loss: 1.8444 - accuracy: 0.4520 - val_loss: 1.2956 - val_accuracy: 0.7476\n",
            "Epoch 2/5\n",
            "24/24 [==============================] - 143s 6s/step - loss: 1.0426 - accuracy: 0.7973 - val_loss: 0.8581 - val_accuracy: 0.8192\n",
            "Epoch 3/5\n",
            "24/24 [==============================] - 146s 6s/step - loss: 0.7417 - accuracy: 0.8440 - val_loss: 0.6891 - val_accuracy: 0.8388\n",
            "Epoch 4/5\n",
            "24/24 [==============================] - 144s 6s/step - loss: 0.5933 - accuracy: 0.8760 - val_loss: 0.6059 - val_accuracy: 0.8496\n",
            "Epoch 5/5\n",
            "24/24 [==============================] - 176s 8s/step - loss: 0.5036 - accuracy: 0.8907 - val_loss: 0.5530 - val_accuracy: 0.8608\n"
          ]
        }
      ]
    },
    {
      "cell_type": "code",
      "source": [
        "plot_loss_curves(efficientnet_history)"
      ],
      "metadata": {
        "colab": {
          "base_uri": "https://localhost:8080/",
          "height": 573
        },
        "id": "iFcz2Yo9Vmc0",
        "outputId": "1851689c-1421-4b0b-aedf-1e7b9e61a687"
      },
      "execution_count": 28,
      "outputs": [
        {
          "output_type": "display_data",
          "data": {
            "text/plain": [
              "<Figure size 432x288 with 1 Axes>"
            ],
            "image/png": "[encoded data removed]"
          },
          "metadata": {
            "needs_background": "light"
          }
        },
        {
          "output_type": "display_data",
          "data": {
            "text/plain": [
              "<Figure size 432x288 with 1 Axes>"
            ],
            "image/png": "[encoded data removed]"
          },
          "metadata": {
            "needs_background": "light"
          }
        }
      ]
    },
    {
      "cell_type": "code",
      "source": [
        "efficientnet_model.summary()"
      ],
      "metadata": {
        "colab": {
          "base_uri": "https://localhost:8080/"
        },
        "id": "NW48ea8XWbRm",
        "outputId": "837a73e7-52a7-4233-c99a-6a8be29aa603"
      },
      "execution_count": 29,
      "outputs": [
        {
          "output_type": "stream",
          "name": "stdout",
          "text": [
            "Model: \"sequential_3\"\n",
            "_________________________________________________________________\n",
            " Layer (type)                Output Shape              Param #   \n",
            "=================================================================\n",
            " feature_extraction_layer (K  (None, 1280)             4049564   \n",
            " erasLayer)                                                      \n",
            "                                                                 \n",
            " output_layer (Dense)        (None, 10)                12810     \n",
            "                                                                 \n",
            "=================================================================\n",
            "Total params: 4,062,374\n",
            "Trainable params: 12,810\n",
            "Non-trainable params: 4,049,564\n",
            "_________________________________________________________________\n"
          ]
        }
      ]
    },
    {
      "cell_type": "code",
      "source": [
        "resnet_model.summary()"
      ],
      "metadata": {
        "colab": {
          "base_uri": "https://localhost:8080/"
        },
        "id": "5caBSk8gWkPo",
        "outputId": "8d80c14b-a7e5-4315-fb65-182f329fcc5f"
      },
      "execution_count": 30,
      "outputs": [
        {
          "output_type": "stream",
          "name": "stdout",
          "text": [
            "Model: \"sequential\"\n",
            "_________________________________________________________________\n",
            " Layer (type)                Output Shape              Param #   \n",
            "=================================================================\n",
            " feature_extraction_layer (K  (None, 2048)             23564800  \n",
            " erasLayer)                                                      \n",
            "                                                                 \n",
            " output_layer (Dense)        (None, 10)                20490     \n",
            "                                                                 \n",
            "=================================================================\n",
            "Total params: 23,585,290\n",
            "Trainable params: 20,490\n",
            "Non-trainable params: 23,564,800\n",
            "_________________________________________________________________\n"
          ]
        }
      ]
    },
    {
      "cell_type": "markdown",
      "source": [
        "## Different types of transfer learning\n",
        "* **\"as in\" transfer** learning - using an existing model with no changes what so ever (e.g using ImageNet model on 1000 ImageNet classes, none of your own)\n",
        "* **\" Feature extraction\"** transfer learning - use prelearned patterns of an existing model (e.g EfficientNetb0 trained on ImageNet) and adjusting the output layer for your own problem (e.g 1000 classes -> 10 classes of food)\n",
        "* **\"Fine-tuning\"** transfer learning - use the prelearned patters of an existing model and \"fine-tune\" many or all of the underlying layers (including new output layers)"
      ],
      "metadata": {
        "id": "zo2TXhpKWobh"
      }
    },
    {
      "cell_type": "code",
      "source": [
        "#how many layers does our efficientnet feature extractor have?\n",
        "len(efficientnet_model.layers[0].weights)"
      ],
      "metadata": {
        "colab": {
          "base_uri": "https://localhost:8080/"
        },
        "id": "5h_dt0lleOos",
        "outputId": "f5c747d1-545c-4882-e11a-96e2b1346ad8"
      },
      "execution_count": 31,
      "outputs": [
        {
          "output_type": "execute_result",
          "data": {
            "text/plain": [
              "309"
            ]
          },
          "metadata": {},
          "execution_count": 31
        }
      ]
    },
    {
      "cell_type": "markdown",
      "source": [
        "## Comparing our models results using TensorBoard\n",
        "\n",
        "**Note** uploading to TensorBoard.dev makes your experiments public."
      ],
      "metadata": {
        "id": "QV2WZrelfpub"
      }
    },
    {
      "cell_type": "code",
      "source": [
        "#upload TensorBoard\n",
        "!tensorboard dev upload --logdir ./tensorflow_hub/ \\\n",
        "--name \"EfficientNetb0 vs ResNet50v2\" \\\n",
        "--description \"Comparing two different TF hub feature extraction model architectures using 10% of the data\" \\\n",
        "--one_shot"
      ],
      "metadata": {
        "id": "jFzJ_t3VhO2O"
      },
      "execution_count": null,
      "outputs": []
    },
    {
      "cell_type": "markdown",
      "source": [
        "TensorBoard experiments are uploaded publically here https://tensorboard.dev/experiment/aWoN64LjToGdjhed0qrWKg/"
      ],
      "metadata": {
        "id": "RVdnDiDNigKF"
      }
    },
    {
      "cell_type": "code",
      "source": [
        "# check out what TensorBoard experiments you have\n",
        "!tensorboard dev list"
      ],
      "metadata": {
        "colab": {
          "base_uri": "https://localhost:8080/"
        },
        "id": "nXrUNkRjjQU7",
        "outputId": "b6206eaa-4ec8-4fc5-96a7-e8a94426da6b"
      },
      "execution_count": 33,
      "outputs": [
        {
          "output_type": "stream",
          "name": "stdout",
          "text": [
            "2022-05-30 06:01:01.786567: E tensorflow/stream_executor/cuda/cuda_driver.cc:271] failed call to cuInit: CUDA_ERROR_NO_DEVICE: no CUDA-capable device is detected\n",
            "https://tensorboard.dev/experiment/aWoN64LjToGdjhed0qrWKg/\n",
            "\tName                 EfficientNetb0 vs ResNet50v2\n",
            "\tDescription          Comparing two different TF hub feature extraction model architectures using 10% of the data\n",
            "\tId                   aWoN64LjToGdjhed0qrWKg\n",
            "\tCreated              2022-05-30 05:55:45 (5 minutes ago)\n",
            "\tUpdated              2022-05-30 05:55:47 (5 minutes ago)\n",
            "\tRuns                 4\n",
            "\tTags                 5\n",
            "\tScalars              60\n",
            "\tTensor bytes         0\n",
            "\tBinary object bytes  5921438\n",
            "Total: 1 experiment(s)\n"
          ]
        }
      ]
    },
    {
      "cell_type": "code",
      "source": [
        "# Delete an experiment\n",
        "#!tensorboard dev delete --experiment_id aWoN64LjToGdjhed0qrWKg"
      ],
      "metadata": {
        "id": "Hr9NqlKCjhwT"
      },
      "execution_count": null,
      "outputs": []
    },
    {
      "cell_type": "code",
      "source": [
        "# confirm the deletion by re-checking what experiments you have left\n",
        "#!tensorboard dev list"
      ],
      "metadata": {
        "id": "FSlRG7ivjwNF"
      },
      "execution_count": null,
      "outputs": []
    }
  ]
}